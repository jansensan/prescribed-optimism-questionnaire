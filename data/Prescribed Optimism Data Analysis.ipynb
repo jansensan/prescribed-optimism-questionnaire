{
 "cells": [
  {
   "cell_type": "markdown",
   "metadata": {},
   "source": []
  },
  {
   "cell_type": "code",
   "execution_count": 1,
   "metadata": {},
   "outputs": [
    {
     "name": "stdout",
     "output_type": "stream",
     "text": [
      "sample size:  42\n",
      "mean: 1.12\n"
     ]
    }
   ],
   "source": [
    "# author: Lida Zacharopoulou\n",
    "\n",
    "import numpy as np\n",
    "import scipy.stats as stats\n",
    "import matplotlib.pyplot as plt\n",
    "import pandas as pd\n",
    "import math\n",
    "from __future__ import division\n",
    "import datetime\n",
    "import statsmodels.api as sm\n",
    "from statsmodels.formula.api import ols\n",
    "import seaborn as sns\n",
    "\n",
    "%matplotlib inline\n",
    "\n",
    "data = pd.read_csv('data.csv')\n",
    "n = len(data)\n",
    "print \"sample size: \", n\n",
    "\n",
    "optimism = data['data/survey/responses/1/0']\n",
    "\n",
    "mean_q1 = np.mean(optimism,0);\n",
    "print \"mean:\", round(mean_q1,2)"
   ]
  },
  {
   "cell_type": "markdown",
   "metadata": {},
   "source": [
    "H0: μ1 = 0 \"The estimate of the mean (μ1) equals zero ( people are accurate when making personal predictions)\"\n",
    "\n",
    "HΑ: μ1 != 0 \"Τhe estimate of the mean is different than zero ( people are not accurate)\""
   ]
  },
  {
   "cell_type": "code",
   "execution_count": 2,
   "metadata": {},
   "outputs": [
    {
     "name": "stdout",
     "output_type": "stream",
     "text": [
      "Median: 1.5 \n",
      "Mean: 1.12\n",
      "\n",
      "Check for normality:\n",
      "SHAPIRO pvalue:  0.0156\n"
     ]
    },
    {
     "data": {
      "image/png": "[encoded data removed]",
      "text/plain": [
       "<Figure size 432x288 with 1 Axes>"
      ]
     },
     "metadata": {
      "needs_background": "light"
     },
     "output_type": "display_data"
    }
   ],
   "source": [
    "#Run 1-sample t-test against zero (neutral answer) for all the sample\n",
    "\n",
    "mu2 = 0;\n",
    "# ttest = stats.ttest_1samp(data['data/survey/responses/1/0'], mu2)\n",
    "\n",
    "# print \"t-statistic: \", round(ttest.statistic, 5)\n",
    "# print \"p-value: \", round(ttest.pvalue, 5)\n",
    "\n",
    "# if ttest.pvalue < 0.01:\n",
    "#     print \"People prescribed optimism with high significance. Ho is rejected\"\n",
    "# elif ttest.pvalue < 0.05:\n",
    "#      print \"People prescribed optimism with significance. Ho is rejected\"\n",
    "# elif ttest.pvalue >= 0.05:\n",
    "#     print \"People prescribed optimism with low significance. Cannot reject Ho.\"\n",
    "    \n",
    "plt.hist(data['data/survey/responses/1/0'],8, range=[-4,4], color=\"purple\", alpha=0.5)\n",
    "# sns.distplot(data['data/survey/responses/1/0'])\n",
    "# plt.plot(optimism, stats.t(n).cdf(optimism), lw=3, label='t pdf')\n",
    "\n",
    "plt.xlabel(\"Optimism Score\")\n",
    "plt.ylabel(\"Count\")\n",
    "plt.title(\"Distribution of optimism scores within our sample\")\n",
    "plt.xticks([-4,-2,-1,0,1,2,4],[\"extremely pessimistic(-4)\",\"-2\",\"-1\",\"accurate(0)\",\"+1\",\"+2\",\"extremely optimistic(+4)\"])\n",
    "# kstest = stats.kstest(data['data/survey/responses/1/0'], \"norm\")\n",
    "# print \"KOLMOGOROV-SMIRNOV:\", kstest\n",
    "\n",
    "\n",
    "print \"Median:\", np.median(data['data/survey/responses/1/0']),\"\"\n",
    "print \"Mean:\", round(np.mean(data['data/survey/responses/1/0']),2)\n",
    "\n",
    "print\"\\nCheck for normality:\"\n",
    "shapiro = stats.shapiro(data['data/survey/responses/1/0'])\n",
    "print \"SHAPIRO pvalue: \", round(shapiro[1],4)\n"
   ]
  },
  {
   "cell_type": "markdown",
   "metadata": {},
   "source": [
    "Check the mean optimism score of the 18-22 age group"
   ]
  },
  {
   "cell_type": "code",
   "execution_count": 3,
   "metadata": {},
   "outputs": [
    {
     "name": "stdout",
     "output_type": "stream",
     "text": [
      "P value:\n",
      "0.0006609360001472233\n"
     ]
    }
   ],
   "source": [
    "### NON PARAMETRIC!!!\n",
    "\n",
    "#One sample Wilcoxon against mu2 , non-parametrix equivalent to one-sample t-test\n",
    "rank, pvalue = stats.wilcoxon(optimism-mu2)\n",
    "\n",
    "print ('P value:')\n",
    "print (pvalue)\n"
   ]
  },
  {
   "cell_type": "code",
   "execution_count": 4,
   "metadata": {},
   "outputs": [
    {
     "name": "stdout",
     "output_type": "stream",
     "text": [
      "Age threshold: 30 \n",
      "\n",
      "Size of younger sample: 28\n",
      "Mean score younger sample 1.18\n",
      "Median score younger sample: 1.5\n",
      "Wilcoxon 1 sample against the μ=0: pvalue 0.00188\n",
      "--------------------------------------------------\n",
      "Size of older sample: 14\n",
      "Mean score older sample 1.0\n",
      "Median score older sample: 1.5\n",
      "Wilcoxon 1 sample against the μ=0: pvalue 0.11995\n",
      "--------------------------------------------------\n",
      "mannwhit-statistic:  190.0\n",
      "p-value:  0.44024\n",
      "Younger sample prescibed optimism score was \n",
      "not signifficantly different than the older sample\n"
     ]
    },
    {
     "data": {
      "text/plain": [
       "<matplotlib.legend.Legend at 0x11e05690>"
      ]
     },
     "execution_count": 4,
     "metadata": {},
     "output_type": "execute_result"
    },
    {
     "data": {
      "image/png": "[encoded data removed]",
      "text/plain": [
       "<Figure size 432x288 with 1 Axes>"
      ]
     },
     "metadata": {
      "needs_background": "light"
     },
     "output_type": "display_data"
    }
   ],
   "source": [
    "# Examine relationship between 2 age groups\n",
    "\n",
    "threshold = 30\n",
    "\n",
    "print \"Age threshold:\", threshold, \"\\n\"\n",
    "\n",
    "young_sample = data.loc[data['data/demographics/age'] < threshold]['data/survey/responses/1/0']\n",
    "older_sample = data.loc[data['data/demographics/age'] >= threshold]['data/survey/responses/1/0']\n",
    "\n",
    "# n, mean, and 1-sample wilcoxon of younger group\n",
    "print \"Size of younger sample:\", len(young_sample)\n",
    "mean_young = np.mean(young_sample,0);\n",
    "median_young = np.median(young_sample,0);\n",
    "print \"Mean score younger sample\", round(mean_young,2)\n",
    "print \"Median score younger sample:\", round(median_young,2)\n",
    "wilcoxon1_young = stats.wilcoxon(young_sample-mu2)\n",
    "print \"Wilcoxon 1 sample against the μ=0: pvalue\", round(wilcoxon1_young.pvalue, 5)\n",
    "print(\"-\" *50)\n",
    "\n",
    "# n, mean, and 1-sample wilcoxon of older group\n",
    "print \"Size of older sample:\", len(older_sample)\n",
    "mean_older = np.mean(older_sample,0);\n",
    "median_older = np.median(older_sample,0);\n",
    "print \"Mean score older sample\", round(mean_older,2)\n",
    "print \"Median score older sample:\", round(median_older,2)\n",
    "wilcoxon1_older = stats.wilcoxon(older_sample-mu2)\n",
    "print \"Wilcoxon 1 sample against the μ=0: pvalue\", round(wilcoxon1_older.pvalue, 5)\n",
    "print(\"-\" *50)\n",
    "\n",
    "# Mann Whitney test, the non-parametric equivalent to the independent t-test \n",
    "# ttest_ind = stats.ttest_ind(young_sample,older_sample)\n",
    "mannwhit = stats.mannwhitneyu(young_sample,older_sample)\n",
    "print \"mannwhit-statistic: \", round(mannwhit.statistic, 5)\n",
    "print \"p-value: \", round(mannwhit.pvalue, 5)\n",
    "\n",
    "\n",
    "if mannwhit.pvalue < 0.01:\n",
    "    print \"Younger sample prescibed optimism score was \\ndifferent than the older sample with high significance\"\n",
    "elif mannwhit.pvalue < 0.05:\n",
    "     print \"Younger sample prescibed optimism score was \\nsignifficantly different than the older sample\"\n",
    "elif mannwhit.pvalue >= 0.05:\n",
    "    print \"Younger sample prescibed optimism score was \\nnot signifficantly different than the older sample\"\n",
    "    \n",
    "# Plot histograms\n",
    "# plt.hist(young_sample,10, range=[-4,4], color=\"green\", alpha=0.5)\n",
    "# plt.xlabel(\"Optimism Score\")\n",
    "# plt.ylabel(\"Count\")\n",
    "# plt.title(\"Distribution of optimism scores within the younger sample\")\n",
    "# plt.show()\n",
    "\n",
    "# plt.hist(older_sample,10, range=[-4,4], color=\"blue\", alpha=0.5)\n",
    "# plt.xlabel(\"Optimism Score\")\n",
    "# plt.ylabel(\"Count\")\n",
    "# plt.title(\"Distribution of optimism scores within the younger sample\")\n",
    "# plt.show()\n",
    "\n",
    "plt.hist([young_sample,older_sample],10,range=[-4,4])\n",
    "plt.title(\"Younger VS Older sample optimism score distribution\")\n",
    "plt.xlabel(\"Optimism Score\")\n",
    "plt.ylabel(\"Count\")\n",
    "plt.legend([\"Young\",\"Older\"])\n",
    "\n"
   ]
  },
  {
   "cell_type": "code",
   "execution_count": 5,
   "metadata": {},
   "outputs": [
    {
     "data": {
      "image/png": "[encoded data removed]",
      "text/plain": [
       "<Figure size 432x288 with 1 Axes>"
      ]
     },
     "metadata": {
      "needs_background": "light"
     },
     "output_type": "display_data"
    },
    {
     "name": "stdout",
     "output_type": "stream",
     "text": [
      "Spearnman Correlation Coefficient:  -0.148 with p-value:  0.3496\n"
     ]
    }
   ],
   "source": [
    "#NON PARAMETRIC!!!\n",
    "\n",
    "# Age Optimism Correlation\n",
    "age = data['data/demographics/age']\n",
    "\n",
    "# Least squares\n",
    "A = np.vstack([age,np.ones(n)]).T\n",
    "m,c = np.linalg.lstsq(A,optimism,rcond=None)[0]\n",
    "\n",
    "colors = np.random.rand(n)\n",
    "plt.scatter(age, optimism,s=40, c=colors, alpha=0.5)\n",
    "plt.plot(age,age*m+c, color=\"purple\", alpha=0.5)\n",
    "plt.title('Relationship between age and optimism')\n",
    "plt.xlabel('Age (years)')\n",
    "plt.ylabel('Optimism score (0 = accurate)')\n",
    "plt.show()\n",
    "\n",
    "# inference = stats.pearsonr(age,optimism ) #if it was normal\n",
    "inference = stats.spearmanr(age,optimism )\n",
    "print \"Spearnman Correlation Coefficient: \", round(inference[0], 5), \"with p-value: \", round(inference[1], 5)\n",
    "\n"
   ]
  },
  {
   "cell_type": "code",
   "execution_count": 6,
   "metadata": {},
   "outputs": [
    {
     "name": "stdout",
     "output_type": "stream",
     "text": [
      "Size of male sample: 21\n",
      "Mean score of male sample 1.05\n",
      "Median score male sample: 2.0\n",
      "Wilcoxon 1 sample against the μ=0: pvalue 0.03958\n",
      "--------------------------------------------------\n",
      "Size of female sample: 18\n",
      "Mean score female sample 1.5\n",
      "Median score female sample: 2.0\n",
      "Wilcoxon 1 sample against the μ=0: pvalue 0.00286\n",
      "--------------------------------------------------\n",
      "Size of other sample: 3\n",
      "Mean score other gender sample -0.67\n",
      "Median score other sample: -1.0\n",
      "--------------------------------------------------\n",
      "Mann Whitney between male and female\n",
      "mannwhit-statistic:  174.5\n",
      "p-value:  0.34229\n"
     ]
    },
    {
     "data": {
      "text/plain": [
       "<matplotlib.legend.Legend at 0x11fdd9f0>"
      ]
     },
     "execution_count": 6,
     "metadata": {},
     "output_type": "execute_result"
    },
    {
     "data": {
      "image/png": "[encoded data removed]",
      "text/plain": [
       "<Figure size 432x288 with 1 Axes>"
      ]
     },
     "metadata": {
      "needs_background": "light"
     },
     "output_type": "display_data"
    }
   ],
   "source": [
    "# Optimism by gender\n",
    "\n",
    "gender = data['data/demographics/gender']\n",
    "male = data.loc[gender == 'male']['data/survey/responses/1/0']\n",
    "female = data.loc[gender == 'female']['data/survey/responses/1/0']\n",
    "other = data.loc[gender == 'other']['data/survey/responses/1/0']\n",
    "\n",
    "mean_male = round(np.mean(male),3);\n",
    "mean_female = round(np.mean(female),3);\n",
    "mean_other = round(np.mean(other),3);\n",
    "median_male = round(np.median(male),3);\n",
    "median_female = round(np.median(female),3);\n",
    "median_other = round(np.median(other),3);\n",
    "\n",
    "# n, mean, and 1-sample wilcoxon of male group\n",
    "print \"Size of male sample:\", len(male)\n",
    "print \"Mean score of male sample\", round(mean_male,2)\n",
    "print \"Median score male sample:\", round(median_male,2)\n",
    "wilcoxon1_male = stats.wilcoxon(male-mu2)\n",
    "print \"Wilcoxon 1 sample against the μ=0: pvalue\", round(wilcoxon1_male.pvalue, 5)\n",
    "print(\"-\" *50)\n",
    "\n",
    "# n, mean, and 1-sample wilcoxon of female group\n",
    "print \"Size of female sample:\", len(female)\n",
    "mean_female = np.mean(female,0);\n",
    "median_female = np.median(female,0);\n",
    "print \"Mean score female sample\", round(mean_female,2)\n",
    "print \"Median score female sample:\", round(median_female,2)\n",
    "wilcoxon1_female = stats.wilcoxon(female-mu2)\n",
    "print \"Wilcoxon 1 sample against the μ=0: pvalue\", round(wilcoxon1_female.pvalue, 5)\n",
    "print(\"-\" *50)\n",
    "\n",
    "# n, mean, and 1-sample wilcoxon of other gender group\n",
    "print \"Size of other sample:\", len(other)\n",
    "mean_other = np.mean(other,0);\n",
    "median_other = np.median(other,0);\n",
    "print \"Mean score other gender sample\", round(mean_other,2)\n",
    "print \"Median score other sample:\", round(median_other,2)\n",
    "# wilcoxon1_other = stats.wilcoxon(other-mu2)\n",
    "# print \"Wilcoxon 1 sample against the μ=0: pvalue\", round(wilcoxon1_other.pvalue, 5)\n",
    "print(\"-\" *50)\n",
    "\n",
    "# Mann Whitney test between male and females, the non-parametric equivalent to the independent t-test \n",
    "# ttest_ind = stats.ttest_ind(young_sample,older_sample)\n",
    "mannwhit = stats.mannwhitneyu(male,female)\n",
    "print \"Mann Whitney between male and female\"\n",
    "print \"mannwhit-statistic: \", round(mannwhit.statistic, 5)\n",
    "print \"p-value: \", round(mannwhit.pvalue, 5)\n",
    "\n",
    "    \n",
    "# plt.boxplot([male,female], positions=[1,2])\n",
    "# plt.xticks([1,2],[\"Male\", \"Female\"])\n",
    "# plt.show()\n",
    "\n",
    "plt.hist([male,female,other],10,range=[-4,4], color=[\"lightblue\", \"pink\", \"purple\"], alpha=0.7)\n",
    "plt.title(\"Optimism score distribution by gender\")\n",
    "plt.xlabel(\"Optimism Score\")\n",
    "plt.ylabel(\"Count\")\n",
    "plt.legend([\"Male\",\"Female\", \"Other\"])\n",
    "\n",
    "\n",
    "\n",
    "\n",
    "\n",
    "\n",
    "\n"
   ]
  },
  {
   "cell_type": "markdown",
   "metadata": {},
   "source": [
    "Sample of people who scored low in the LOT ( pessimistic tendancy)"
   ]
  },
  {
   "cell_type": "code",
   "execution_count": 7,
   "metadata": {},
   "outputs": [
    {
     "name": "stdout",
     "output_type": "stream",
     "text": [
      "4     4\n",
      "13    3\n",
      "19    2\n",
      "21    1\n",
      "22   -1\n",
      "24    2\n",
      "26    0\n",
      "30    1\n",
      "31    0\n",
      "32    2\n",
      "35    1\n",
      "Name: data/survey/responses/1/0, dtype: int64\n",
      "pessimists size:  11\n",
      "mean: 1.36\n",
      "median: 1.0\n",
      "wilcoxon:  2.5\n",
      "p-value:  0.01644\n"
     ]
    },
    {
     "name": "stderr",
     "output_type": "stream",
     "text": [
      "C:\\Python27\\lib\\site-packages\\scipy\\stats\\morestats.py:2388: UserWarning: Warning: sample size too small for normal approximation.\n",
      "  warnings.warn(\"Warning: sample size too small for normal approximation.\")\n"
     ]
    }
   ],
   "source": [
    "lot_sample1 = data.loc[:, 'data/lifeOrientationTest/0':'data/lifeOrientationTest/9']\n",
    "lot_sample = data.loc[:, ['data/lifeOrientationTest/0','data/lifeOrientationTest/1','data/lifeOrientationTest/2','data/lifeOrientationTest/3','data/lifeOrientationTest/4','data/lifeOrientationTest/5','data/lifeOrientationTest/6','data/lifeOrientationTest/7','data/lifeOrientationTest/8','data/lifeOrientationTest/9','data/survey/responses/1/0']]\n",
    "\n",
    "# New column with mean LOT score\n",
    "lot_sample['meanLOT'] = lot_sample1.sum(axis=1)/10\n",
    "# print lot_sample\n",
    "\n",
    "pessimism = lot_sample['meanLOT'] < 3\n",
    "pessimists = lot_sample.loc[pessimism]['data/survey/responses/1/0']\n",
    "print pessimists\n",
    "\n",
    "print \"pessimists size: \", len(pessimists)\n",
    "\n",
    "\n",
    "mean_pessimist = np.mean(pessimists,0);\n",
    "median_pessimist = np.median(pessimists,0);\n",
    "print \"mean:\", round(mean_pessimist,2)\n",
    "print \"median:\", round(median_pessimist,2)\n",
    "\n",
    "# Do we do t-test? \n",
    "wilcoxon = stats.wilcoxon(pessimists-mu2)\n",
    "\n",
    "print \"wilcoxon: \", round(wilcoxon.statistic, 5)\n",
    "print \"p-value: \", round(wilcoxon.pvalue, 5)\n",
    "\n",
    "\n",
    "\n",
    "# pessimim = lot_mean < 3\n",
    "# pessimists = lot_mean[pessimim]\n",
    "# print pessimists\n",
    "\n",
    " "
   ]
  },
  {
   "cell_type": "code",
   "execution_count": null,
   "metadata": {},
   "outputs": [],
   "source": [
    "\n",
    "\n",
    "scipy.stats.kruskal\n"
   ]
  },
  {
   "cell_type": "code",
   "execution_count": 33,
   "metadata": {},
   "outputs": [
    {
     "name": "stdout",
     "output_type": "stream",
     "text": [
      "n working: 33 n not working: 9\n",
      "n studying: 20 n not studying: 22\n",
      "Median working: 2.0 Median not working: 1.0\n",
      "Median studying 1.0 Median not studying 2.0\n",
      "Kruskal : Working VS Not working optimism score:\n",
      "KruskalResult(statistic=0.4559571557700004, pvalue=0.499519487898065)\n",
      "Kruskal : Studying VS Not studying optimism score:\n",
      "KruskalResult(statistic=0.9362965526307745, pvalue=0.3332320969914224)\n",
      "Wilcoxon against μ=0: studying:  WilcoxonResult(statistic=34.5, pvalue=0.07988182702998028)\n",
      "Wilcoxon against μ=0: not studying:  WilcoxonResult(statistic=26.5, pvalue=0.0015125988769793778)\n",
      "Mann Whitney between studying and not studying\n",
      "mannwhit-statistic:  182.5\n",
      "p-value:  0.16986\n"
     ]
    },
    {
     "name": "stderr",
     "output_type": "stream",
     "text": [
      "C:\\Python27\\lib\\site-packages\\scipy\\stats\\morestats.py:2388: UserWarning: Warning: sample size too small for normal approximation.\n",
      "  warnings.warn(\"Warning: sample size too small for normal approximation.\")\n"
     ]
    }
   ],
   "source": [
    "#Other correlations?\n",
    "\n",
    "\n",
    "education = data['data/demographics/education']\n",
    "ethnicity = data['data/demographics/ethnicity']\n",
    "working = data['data/demographics/isWorking']\n",
    "studying = data['data/demographics/isStudying']\n",
    "income = data['data/demographics/income']\n",
    "\n",
    "\n",
    "work = data.loc[working == True ]['data/survey/responses/1/0']\n",
    "notWork = data.loc[working == False]['data/survey/responses/1/0']\n",
    "\n",
    "study = data.loc[studying == True]['data/survey/responses/1/0']\n",
    "notStudy = data.loc[studying == False]['data/survey/responses/1/0']\n",
    "\n",
    "print \"n working:\", len(work), \"n not working:\", len(notWork)\n",
    "print \"n studying:\", len(study), \"n not studying:\", len(notStudy)\n",
    "\n",
    "median_work = np.median(work,0);\n",
    "median_notWork = np.median(notWork,0);\n",
    "median_study = np.median(study,0);\n",
    "median_notStudy = np.median(notStudy,0);\n",
    "\n",
    "print \"Median working:\", median_work, \"Median not working:\", median_notWork\n",
    "print \"Median studying\", median_study, \"Median not studying\", median_notStudy\n",
    "\n",
    "# Kruskal \n",
    "\n",
    "working_krusckal = stats.kruskal(work, notWork);\n",
    "studying_krusckal = stats.kruskal(study, notStudy);\n",
    "\n",
    "print \"Kruskal : Working VS Not working optimism score:\\n\", working_krusckal;\n",
    "print \"Kruskal : Studying VS Not studying optimism score:\\n\", studying_krusckal;\n",
    "\n",
    "#Wilcoxon\n",
    "\n",
    "wilcoxon1_work = stats.wilcoxon(work-mu2)\n",
    "wilcoxon1_notWork = stats.wilcoxon(notWork-mu2)\n",
    "wilcoxon1_study = stats.wilcoxon(study-mu2)\n",
    "wilcoxon1_notStudy = stats.wilcoxon(notStudy-mu2)\n",
    "\n",
    "# print \"Wilcoxon against μ=0: working: \", wilcoxon1_work\n",
    "# print \"Wilcoxon against μ=0: not working: \", wilcoxon1_notWork\n",
    "print \"Wilcoxon against μ=0: studying: \", wilcoxon1_study\n",
    "print \"Wilcoxon against μ=0: not studying: \", wilcoxon1_notStudy\n",
    "\n",
    "mannwhit = stats.mannwhitneyu(study,notStudy)\n",
    "print \"Mann Whitney between studying and not studying\"\n",
    "print \"mannwhit-statistic: \", round(mannwhit.statistic, 5)\n",
    "print \"p-value: \", round(mannwhit.pvalue, 5)\n"
   ]
  },
  {
   "cell_type": "code",
   "execution_count": null,
   "metadata": {},
   "outputs": [],
   "source": []
  }
 ],
 "metadata": {
  "kernelspec": {
   "display_name": "Python 2",
   "language": "python",
   "name": "python2"
  },
  "language_info": {
   "codemirror_mode": {
    "name": "ipython",
    "version": 2
   },
   "file_extension": ".py",
   "mimetype": "text/x-python",
   "name": "python",
   "nbconvert_exporter": "python",
   "pygments_lexer": "ipython2",
   "version": "2.7.15"
  }
 },
 "nbformat": 4,
 "nbformat_minor": 2
}
